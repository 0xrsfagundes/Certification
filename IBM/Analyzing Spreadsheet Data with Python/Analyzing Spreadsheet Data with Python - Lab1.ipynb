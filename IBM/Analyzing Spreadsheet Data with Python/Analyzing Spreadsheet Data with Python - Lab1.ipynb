{
 "cells": [
  {
   "cell_type": "markdown",
   "id": "a6d8eae8",
   "metadata": {},
   "source": [
    "# Analyzing Spreadsheet Data with Python\n",
    "\n",
    "IBM course - Analyzing Spreadsheet Data with Python"
   ]
  },
  {
   "cell_type": "code",
   "execution_count": 43,
   "id": "dd7b2234",
   "metadata": {
    "scrolled": false
   },
   "outputs": [
    {
     "data": {
      "text/html": [
       "<div>\n",
       "<style scoped>\n",
       "    .dataframe tbody tr th:only-of-type {\n",
       "        vertical-align: middle;\n",
       "    }\n",
       "\n",
       "    .dataframe tbody tr th {\n",
       "        vertical-align: top;\n",
       "    }\n",
       "\n",
       "    .dataframe thead th {\n",
       "        text-align: right;\n",
       "    }\n",
       "</style>\n",
       "<table border=\"1\" class=\"dataframe\">\n",
       "  <thead>\n",
       "    <tr style=\"text-align: right;\">\n",
       "      <th></th>\n",
       "      <th>ARPElevation</th>\n",
       "      <th>ARPElevationMethod</th>\n",
       "      <th>ARPLatitude</th>\n",
       "      <th>ARPLatitudeS</th>\n",
       "      <th>ARPLongitude</th>\n",
       "      <th>ARPLongitudeS</th>\n",
       "      <th>ARPMethod</th>\n",
       "      <th>ATCT</th>\n",
       "      <th>ActivationDate</th>\n",
       "      <th>AirframeRepair</th>\n",
       "      <th>...</th>\n",
       "      <th>TieInFSSID</th>\n",
       "      <th>TieInFSSName</th>\n",
       "      <th>TieInFSSTollFreeNumber</th>\n",
       "      <th>TrafficPatternAltitude</th>\n",
       "      <th>TransientStorage</th>\n",
       "      <th>Type</th>\n",
       "      <th>UNICOMFrequencies</th>\n",
       "      <th>Ultralights</th>\n",
       "      <th>Use</th>\n",
       "      <th>WindIndicator</th>\n",
       "    </tr>\n",
       "  </thead>\n",
       "  <tbody>\n",
       "    <tr>\n",
       "      <th>0</th>\n",
       "      <td>19</td>\n",
       "      <td>S</td>\n",
       "      <td>51-53-00.8954N</td>\n",
       "      <td>186780.8954N</td>\n",
       "      <td>176-38-32.9277W</td>\n",
       "      <td>635912.9277W</td>\n",
       "      <td>E</td>\n",
       "      <td>N</td>\n",
       "      <td>4/1/1949</td>\n",
       "      <td>NONE</td>\n",
       "      <td>...</td>\n",
       "      <td>CDB</td>\n",
       "      <td>COLD BAY</td>\n",
       "      <td>1-800-478-7250</td>\n",
       "      <td>NaN</td>\n",
       "      <td>HGR</td>\n",
       "      <td>AIRPORT</td>\n",
       "      <td>NaN</td>\n",
       "      <td>NaN</td>\n",
       "      <td>PU</td>\n",
       "      <td>Y</td>\n",
       "    </tr>\n",
       "    <tr>\n",
       "      <th>1</th>\n",
       "      <td>44</td>\n",
       "      <td>S</td>\n",
       "      <td>56-56-19.2870N</td>\n",
       "      <td>204979.2870N</td>\n",
       "      <td>154-10-57.2000W</td>\n",
       "      <td>555057.2000W</td>\n",
       "      <td>E</td>\n",
       "      <td>N</td>\n",
       "      <td>11/1/1979</td>\n",
       "      <td>NONE</td>\n",
       "      <td>...</td>\n",
       "      <td>ENA</td>\n",
       "      <td>KENAI</td>\n",
       "      <td>1-866-864-1737</td>\n",
       "      <td>NaN</td>\n",
       "      <td>NaN</td>\n",
       "      <td>AIRPORT</td>\n",
       "      <td>122.8</td>\n",
       "      <td>NaN</td>\n",
       "      <td>PU</td>\n",
       "      <td>Y</td>\n",
       "    </tr>\n",
       "    <tr>\n",
       "      <th>2</th>\n",
       "      <td>23</td>\n",
       "      <td>S</td>\n",
       "      <td>60-54-49.7150N</td>\n",
       "      <td>219289.7150N</td>\n",
       "      <td>161-29-35.9850W</td>\n",
       "      <td>581375.9850W</td>\n",
       "      <td>E</td>\n",
       "      <td>N</td>\n",
       "      <td>1/1/1968</td>\n",
       "      <td>NONE</td>\n",
       "      <td>...</td>\n",
       "      <td>ENA</td>\n",
       "      <td>KENAI</td>\n",
       "      <td>1-866-864-1737</td>\n",
       "      <td>NaN</td>\n",
       "      <td>NaN</td>\n",
       "      <td>AIRPORT</td>\n",
       "      <td>NaN</td>\n",
       "      <td>NaN</td>\n",
       "      <td>PU</td>\n",
       "      <td>Y-L</td>\n",
       "    </tr>\n",
       "    <tr>\n",
       "      <th>3</th>\n",
       "      <td>18</td>\n",
       "      <td>E</td>\n",
       "      <td>60-54-28.3130N</td>\n",
       "      <td>219268.3130N</td>\n",
       "      <td>161-26-06.2780W</td>\n",
       "      <td>581166.2780W</td>\n",
       "      <td>E</td>\n",
       "      <td>N</td>\n",
       "      <td>7/1/1966</td>\n",
       "      <td>NONE</td>\n",
       "      <td>...</td>\n",
       "      <td>ENA</td>\n",
       "      <td>KENAI</td>\n",
       "      <td>1-866-864-1737</td>\n",
       "      <td>NaN</td>\n",
       "      <td>NaN</td>\n",
       "      <td>SEAPLANE BASE</td>\n",
       "      <td>NaN</td>\n",
       "      <td>NaN</td>\n",
       "      <td>PU</td>\n",
       "      <td>N</td>\n",
       "    </tr>\n",
       "    <tr>\n",
       "      <th>4</th>\n",
       "      <td>39</td>\n",
       "      <td>E</td>\n",
       "      <td>60-54-10.4300N</td>\n",
       "      <td>219250.4300N</td>\n",
       "      <td>161-13-50.1000W</td>\n",
       "      <td>580430.1000W</td>\n",
       "      <td>E</td>\n",
       "      <td>N</td>\n",
       "      <td>7/1/1966</td>\n",
       "      <td>NONE</td>\n",
       "      <td>...</td>\n",
       "      <td>ENA</td>\n",
       "      <td>KENAI</td>\n",
       "      <td>1-866-864-1737</td>\n",
       "      <td>NaN</td>\n",
       "      <td>NaN</td>\n",
       "      <td>AIRPORT</td>\n",
       "      <td>NaN</td>\n",
       "      <td>NaN</td>\n",
       "      <td>PU</td>\n",
       "      <td>Y-L</td>\n",
       "    </tr>\n",
       "  </tbody>\n",
       "</table>\n",
       "<p>5 rows × 103 columns</p>\n",
       "</div>"
      ],
      "text/plain": [
       "   ARPElevation ARPElevationMethod     ARPLatitude  ARPLatitudeS  \\\n",
       "0            19                  S  51-53-00.8954N  186780.8954N   \n",
       "1            44                  S  56-56-19.2870N  204979.2870N   \n",
       "2            23                  S  60-54-49.7150N  219289.7150N   \n",
       "3            18                  E  60-54-28.3130N  219268.3130N   \n",
       "4            39                  E  60-54-10.4300N  219250.4300N   \n",
       "\n",
       "      ARPLongitude ARPLongitudeS ARPMethod ATCT ActivationDate AirframeRepair  \\\n",
       "0  176-38-32.9277W  635912.9277W         E    N       4/1/1949           NONE   \n",
       "1  154-10-57.2000W  555057.2000W         E    N      11/1/1979           NONE   \n",
       "2  161-29-35.9850W  581375.9850W         E    N       1/1/1968           NONE   \n",
       "3  161-26-06.2780W  581166.2780W         E    N       7/1/1966           NONE   \n",
       "4  161-13-50.1000W  580430.1000W         E    N       7/1/1966           NONE   \n",
       "\n",
       "   ... TieInFSSID TieInFSSName TieInFSSTollFreeNumber TrafficPatternAltitude  \\\n",
       "0  ...        CDB     COLD BAY         1-800-478-7250                    NaN   \n",
       "1  ...        ENA        KENAI         1-866-864-1737                    NaN   \n",
       "2  ...        ENA        KENAI         1-866-864-1737                    NaN   \n",
       "3  ...        ENA        KENAI         1-866-864-1737                    NaN   \n",
       "4  ...        ENA        KENAI         1-866-864-1737                    NaN   \n",
       "\n",
       "  TransientStorage           Type UNICOMFrequencies Ultralights Use  \\\n",
       "0              HGR        AIRPORT               NaN         NaN  PU   \n",
       "1              NaN        AIRPORT             122.8         NaN  PU   \n",
       "2              NaN        AIRPORT               NaN         NaN  PU   \n",
       "3              NaN  SEAPLANE BASE               NaN         NaN  PU   \n",
       "4              NaN        AIRPORT               NaN         NaN  PU   \n",
       "\n",
       "  WindIndicator  \n",
       "0             Y  \n",
       "1             Y  \n",
       "2           Y-L  \n",
       "3             N  \n",
       "4           Y-L  \n",
       "\n",
       "[5 rows x 103 columns]"
      ]
     },
     "execution_count": 43,
     "metadata": {},
     "output_type": "execute_result"
    }
   ],
   "source": [
    "import pandas as pd\n",
    "\n",
    "df_facilities = pd.read_excel('xls/Airport_Data.xlsx', sheet_name='Facilities')\n",
    "\n",
    "df_facilities.sort_index(axis=1,inplace=True)\n",
    "\n",
    "df_facilities.head()"
   ]
  },
  {
   "cell_type": "code",
   "execution_count": 44,
   "id": "fdccd889",
   "metadata": {},
   "outputs": [
    {
     "data": {
      "text/plain": [
       "(751, 103)"
      ]
     },
     "execution_count": 44,
     "metadata": {},
     "output_type": "execute_result"
    }
   ],
   "source": [
    "df_facilities.shape"
   ]
  },
  {
   "cell_type": "markdown",
   "id": "a6993519",
   "metadata": {},
   "source": [
    "### Question 1: What are the types for aviation facilities in Alaska?"
   ]
  },
  {
   "cell_type": "code",
   "execution_count": 45,
   "id": "15528b25",
   "metadata": {
    "scrolled": true
   },
   "outputs": [
    {
     "data": {
      "text/plain": [
       "AIRPORT          561\n",
       "SEAPLANE BASE    138\n",
       "HELIPORT          52\n",
       "Name: Type, dtype: int64"
      ]
     },
     "execution_count": 45,
     "metadata": {},
     "output_type": "execute_result"
    }
   ],
   "source": [
    "df_facilities['Type'].value_counts()"
   ]
  },
  {
   "cell_type": "code",
   "execution_count": 46,
   "id": "79b205f8",
   "metadata": {
    "scrolled": true
   },
   "outputs": [
    {
     "data": {
      "text/plain": [
       "array(['AIRPORT', 'SEAPLANE BASE', 'HELIPORT'], dtype=object)"
      ]
     },
     "execution_count": 46,
     "metadata": {},
     "output_type": "execute_result"
    }
   ],
   "source": [
    "df_facilities['Type'].unique()"
   ]
  },
  {
   "cell_type": "markdown",
   "id": "396288e3",
   "metadata": {},
   "source": [
    "### Question 2: Provide a table containing the information for all Seaplane Bases in Alaska"
   ]
  },
  {
   "cell_type": "code",
   "execution_count": 47,
   "id": "81a5a293",
   "metadata": {
    "scrolled": false
   },
   "outputs": [
    {
     "data": {
      "text/html": [
       "<div>\n",
       "<style scoped>\n",
       "    .dataframe tbody tr th:only-of-type {\n",
       "        vertical-align: middle;\n",
       "    }\n",
       "\n",
       "    .dataframe tbody tr th {\n",
       "        vertical-align: top;\n",
       "    }\n",
       "\n",
       "    .dataframe thead th {\n",
       "        text-align: right;\n",
       "    }\n",
       "</style>\n",
       "<table border=\"1\" class=\"dataframe\">\n",
       "  <thead>\n",
       "    <tr style=\"text-align: right;\">\n",
       "      <th></th>\n",
       "      <th>ARPElevation</th>\n",
       "      <th>ARPElevationMethod</th>\n",
       "      <th>ARPLatitude</th>\n",
       "      <th>ARPLatitudeS</th>\n",
       "      <th>ARPLongitude</th>\n",
       "      <th>ARPLongitudeS</th>\n",
       "      <th>ARPMethod</th>\n",
       "      <th>ATCT</th>\n",
       "      <th>ActivationDate</th>\n",
       "      <th>AirframeRepair</th>\n",
       "      <th>...</th>\n",
       "      <th>TieInFSSID</th>\n",
       "      <th>TieInFSSName</th>\n",
       "      <th>TieInFSSTollFreeNumber</th>\n",
       "      <th>TrafficPatternAltitude</th>\n",
       "      <th>TransientStorage</th>\n",
       "      <th>Type</th>\n",
       "      <th>UNICOMFrequencies</th>\n",
       "      <th>Ultralights</th>\n",
       "      <th>Use</th>\n",
       "      <th>WindIndicator</th>\n",
       "    </tr>\n",
       "  </thead>\n",
       "  <tbody>\n",
       "    <tr>\n",
       "      <th>3</th>\n",
       "      <td>18</td>\n",
       "      <td>E</td>\n",
       "      <td>60-54-28.3130N</td>\n",
       "      <td>219268.3130N</td>\n",
       "      <td>161-26-06.2780W</td>\n",
       "      <td>581166.2780W</td>\n",
       "      <td>E</td>\n",
       "      <td>N</td>\n",
       "      <td>7/1/1966</td>\n",
       "      <td>NONE</td>\n",
       "      <td>...</td>\n",
       "      <td>ENA</td>\n",
       "      <td>KENAI</td>\n",
       "      <td>1-866-864-1737</td>\n",
       "      <td>NaN</td>\n",
       "      <td>NaN</td>\n",
       "      <td>SEAPLANE BASE</td>\n",
       "      <td>NaN</td>\n",
       "      <td>NaN</td>\n",
       "      <td>PU</td>\n",
       "      <td>N</td>\n",
       "    </tr>\n",
       "    <tr>\n",
       "      <th>5</th>\n",
       "      <td>0</td>\n",
       "      <td>E</td>\n",
       "      <td>54-08-02.0400N</td>\n",
       "      <td>194882.0400N</td>\n",
       "      <td>165-46-42.1800W</td>\n",
       "      <td>596802.1800W</td>\n",
       "      <td>E</td>\n",
       "      <td>N</td>\n",
       "      <td>NaN</td>\n",
       "      <td>NONE</td>\n",
       "      <td>...</td>\n",
       "      <td>CDB</td>\n",
       "      <td>COLD BAY</td>\n",
       "      <td>1-800-478-7250</td>\n",
       "      <td>NaN</td>\n",
       "      <td>NaN</td>\n",
       "      <td>SEAPLANE BASE</td>\n",
       "      <td>NaN</td>\n",
       "      <td>NaN</td>\n",
       "      <td>PU</td>\n",
       "      <td>Y</td>\n",
       "    </tr>\n",
       "    <tr>\n",
       "      <th>8</th>\n",
       "      <td>7</td>\n",
       "      <td>E</td>\n",
       "      <td>59-16-26.3210N</td>\n",
       "      <td>213386.3210N</td>\n",
       "      <td>158-37-24.9210W</td>\n",
       "      <td>571044.9210W</td>\n",
       "      <td>E</td>\n",
       "      <td>N</td>\n",
       "      <td>1/1/1966</td>\n",
       "      <td>NONE</td>\n",
       "      <td>...</td>\n",
       "      <td>DLG</td>\n",
       "      <td>DILLINGHAM</td>\n",
       "      <td>LC842-5275</td>\n",
       "      <td>NaN</td>\n",
       "      <td>TIE</td>\n",
       "      <td>SEAPLANE BASE</td>\n",
       "      <td>NaN</td>\n",
       "      <td>NaN</td>\n",
       "      <td>PU</td>\n",
       "      <td>NaN</td>\n",
       "    </tr>\n",
       "    <tr>\n",
       "      <th>15</th>\n",
       "      <td>0</td>\n",
       "      <td>E</td>\n",
       "      <td>57-28-17.3770N</td>\n",
       "      <td>206897.3770N</td>\n",
       "      <td>153-48-55.2980W</td>\n",
       "      <td>553735.2980W</td>\n",
       "      <td>E</td>\n",
       "      <td>N</td>\n",
       "      <td>6/1/1963</td>\n",
       "      <td>NONE</td>\n",
       "      <td>...</td>\n",
       "      <td>ENA</td>\n",
       "      <td>KENAI</td>\n",
       "      <td>1-866-864-1737</td>\n",
       "      <td>NaN</td>\n",
       "      <td>NaN</td>\n",
       "      <td>SEAPLANE BASE</td>\n",
       "      <td>NaN</td>\n",
       "      <td>NaN</td>\n",
       "      <td>PR</td>\n",
       "      <td>N</td>\n",
       "    </tr>\n",
       "    <tr>\n",
       "      <th>24</th>\n",
       "      <td>20</td>\n",
       "      <td>E</td>\n",
       "      <td>61-07-59.0200N</td>\n",
       "      <td>220079.0200N</td>\n",
       "      <td>149-56-30.8400W</td>\n",
       "      <td>539790.8400W</td>\n",
       "      <td>E</td>\n",
       "      <td>N</td>\n",
       "      <td>6/1/2004</td>\n",
       "      <td>NaN</td>\n",
       "      <td>...</td>\n",
       "      <td>ENA</td>\n",
       "      <td>KENAI</td>\n",
       "      <td>1-866-864-1737</td>\n",
       "      <td>NaN</td>\n",
       "      <td>NaN</td>\n",
       "      <td>SEAPLANE BASE</td>\n",
       "      <td>NaN</td>\n",
       "      <td>NaN</td>\n",
       "      <td>PU</td>\n",
       "      <td>Y</td>\n",
       "    </tr>\n",
       "  </tbody>\n",
       "</table>\n",
       "<p>5 rows × 103 columns</p>\n",
       "</div>"
      ],
      "text/plain": [
       "    ARPElevation ARPElevationMethod     ARPLatitude  ARPLatitudeS  \\\n",
       "3             18                  E  60-54-28.3130N  219268.3130N   \n",
       "5              0                  E  54-08-02.0400N  194882.0400N   \n",
       "8              7                  E  59-16-26.3210N  213386.3210N   \n",
       "15             0                  E  57-28-17.3770N  206897.3770N   \n",
       "24            20                  E  61-07-59.0200N  220079.0200N   \n",
       "\n",
       "       ARPLongitude ARPLongitudeS ARPMethod ATCT ActivationDate  \\\n",
       "3   161-26-06.2780W  581166.2780W         E    N       7/1/1966   \n",
       "5   165-46-42.1800W  596802.1800W         E    N            NaN   \n",
       "8   158-37-24.9210W  571044.9210W         E    N       1/1/1966   \n",
       "15  153-48-55.2980W  553735.2980W         E    N       6/1/1963   \n",
       "24  149-56-30.8400W  539790.8400W         E    N       6/1/2004   \n",
       "\n",
       "   AirframeRepair  ... TieInFSSID TieInFSSName TieInFSSTollFreeNumber  \\\n",
       "3            NONE  ...        ENA        KENAI         1-866-864-1737   \n",
       "5            NONE  ...        CDB     COLD BAY         1-800-478-7250   \n",
       "8            NONE  ...        DLG   DILLINGHAM             LC842-5275   \n",
       "15           NONE  ...        ENA        KENAI         1-866-864-1737   \n",
       "24            NaN  ...        ENA        KENAI         1-866-864-1737   \n",
       "\n",
       "   TrafficPatternAltitude TransientStorage           Type UNICOMFrequencies  \\\n",
       "3                     NaN              NaN  SEAPLANE BASE               NaN   \n",
       "5                     NaN              NaN  SEAPLANE BASE               NaN   \n",
       "8                     NaN              TIE  SEAPLANE BASE               NaN   \n",
       "15                    NaN              NaN  SEAPLANE BASE               NaN   \n",
       "24                    NaN              NaN  SEAPLANE BASE               NaN   \n",
       "\n",
       "   Ultralights Use WindIndicator  \n",
       "3          NaN  PU             N  \n",
       "5          NaN  PU             Y  \n",
       "8          NaN  PU           NaN  \n",
       "15         NaN  PR             N  \n",
       "24         NaN  PU             Y  \n",
       "\n",
       "[5 rows x 103 columns]"
      ]
     },
     "execution_count": 47,
     "metadata": {},
     "output_type": "execute_result"
    }
   ],
   "source": [
    "df_seaplane = df_facilities[df_facilities['Type'] == 'SEAPLANE BASE']\n",
    "\n",
    "df_seaplane.head()"
   ]
  },
  {
   "cell_type": "markdown",
   "id": "83112b0b",
   "metadata": {},
   "source": [
    "### Question 3: What are the 5 highest aviation facilities in Alaska?\n"
   ]
  },
  {
   "cell_type": "code",
   "execution_count": 48,
   "id": "40a99ab1",
   "metadata": {},
   "outputs": [
    {
     "data": {
      "text/html": [
       "<div>\n",
       "<style scoped>\n",
       "    .dataframe tbody tr th:only-of-type {\n",
       "        vertical-align: middle;\n",
       "    }\n",
       "\n",
       "    .dataframe tbody tr th {\n",
       "        vertical-align: top;\n",
       "    }\n",
       "\n",
       "    .dataframe thead th {\n",
       "        text-align: right;\n",
       "    }\n",
       "</style>\n",
       "<table border=\"1\" class=\"dataframe\">\n",
       "  <thead>\n",
       "    <tr style=\"text-align: right;\">\n",
       "      <th></th>\n",
       "      <th>ARPElevation</th>\n",
       "    </tr>\n",
       "  </thead>\n",
       "  <tbody>\n",
       "    <tr>\n",
       "      <th>584</th>\n",
       "      <td>3984</td>\n",
       "    </tr>\n",
       "    <tr>\n",
       "      <th>630</th>\n",
       "      <td>3720</td>\n",
       "    </tr>\n",
       "    <tr>\n",
       "      <th>265</th>\n",
       "      <td>3620</td>\n",
       "    </tr>\n",
       "    <tr>\n",
       "      <th>582</th>\n",
       "      <td>3600</td>\n",
       "    </tr>\n",
       "    <tr>\n",
       "      <th>353</th>\n",
       "      <td>3530</td>\n",
       "    </tr>\n",
       "  </tbody>\n",
       "</table>\n",
       "</div>"
      ],
      "text/plain": [
       "     ARPElevation\n",
       "584          3984\n",
       "630          3720\n",
       "265          3620\n",
       "582          3600\n",
       "353          3530"
      ]
     },
     "execution_count": 48,
     "metadata": {},
     "output_type": "execute_result"
    }
   ],
   "source": [
    "df_facilities[['ARPElevation']].sort_values(by = 'ARPElevation', ascending = False).head(n=5)"
   ]
  },
  {
   "cell_type": "markdown",
   "id": "c4156c6f",
   "metadata": {},
   "source": [
    "### Question 4: What is the average elevation of aviation facilities?\n"
   ]
  },
  {
   "cell_type": "code",
   "execution_count": 49,
   "id": "decae2dd",
   "metadata": {},
   "outputs": [
    {
     "data": {
      "text/plain": [
       "ARPElevation    425.932091\n",
       "dtype: float64"
      ]
     },
     "execution_count": 49,
     "metadata": {},
     "output_type": "execute_result"
    }
   ],
   "source": [
    "df_facilities[['ARPElevation']].mean()"
   ]
  },
  {
   "cell_type": "markdown",
   "id": "4ac0bce2",
   "metadata": {},
   "source": [
    "### Question 5: What are the highest and lowest elevation values of the aviation facilities?\n"
   ]
  },
  {
   "cell_type": "code",
   "execution_count": 50,
   "id": "d9abc375",
   "metadata": {
    "scrolled": true
   },
   "outputs": [
    {
     "data": {
      "text/plain": [
       "ARPElevation    3984\n",
       "dtype: int64"
      ]
     },
     "execution_count": 50,
     "metadata": {},
     "output_type": "execute_result"
    }
   ],
   "source": [
    "df_facilities[['ARPElevation']].max()"
   ]
  },
  {
   "cell_type": "code",
   "execution_count": 51,
   "id": "5b395949",
   "metadata": {},
   "outputs": [
    {
     "data": {
      "text/plain": [
       "ARPElevation    0\n",
       "dtype: int64"
      ]
     },
     "execution_count": 51,
     "metadata": {},
     "output_type": "execute_result"
    }
   ],
   "source": [
    "df_facilities[['ARPElevation']].min()"
   ]
  },
  {
   "cell_type": "markdown",
   "id": "2fa0da29",
   "metadata": {},
   "source": [
    "### Exercise 5: Write to `xlsx` Files!\n"
   ]
  },
  {
   "cell_type": "code",
   "execution_count": 52,
   "id": "a637f68a",
   "metadata": {},
   "outputs": [],
   "source": [
    "df_seaplane.to_excel('xls/seaplane.xlsx')"
   ]
  }
 ],
 "metadata": {
  "kernelspec": {
   "display_name": "Python 3 (ipykernel)",
   "language": "python",
   "name": "python3"
  },
  "language_info": {
   "codemirror_mode": {
    "name": "ipython",
    "version": 3
   },
   "file_extension": ".py",
   "mimetype": "text/x-python",
   "name": "python",
   "nbconvert_exporter": "python",
   "pygments_lexer": "ipython3",
   "version": "3.10.9"
  }
 },
 "nbformat": 4,
 "nbformat_minor": 5
}
