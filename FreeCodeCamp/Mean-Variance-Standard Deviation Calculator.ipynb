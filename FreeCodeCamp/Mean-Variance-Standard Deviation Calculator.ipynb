{
 "cells": [
  {
   "cell_type": "markdown",
   "id": "4d1b6b8c",
   "metadata": {},
   "source": [
    "# Mean-Variance-Standard Deviation Calculator"
   ]
  },
  {
   "cell_type": "code",
   "execution_count": 6,
   "id": "c109456c",
   "metadata": {},
   "outputs": [],
   "source": [
    "import numpy as np\n",
    "\n",
    "list = [2,6,2,8,4,0,1,5,7]\n",
    "\n",
    "if len(list) == 9:\n",
    "  var_matrix = np.reshape(list, [3, 3])\n",
    "\n",
    "  var_mean = [\n",
    "    np.mean(var_matrix, axis=0).tolist(),\n",
    "    np.mean(var_matrix, axis=1).tolist(),\n",
    "    np.mean(var_matrix)\n",
    "  ]\n",
    "  var_var = [\n",
    "    np.var(var_matrix, axis=0).tolist(),\n",
    "    np.var(var_matrix, axis=1).tolist(),\n",
    "    np.var(var_matrix)\n",
    "  ]\n",
    "  var_std = [\n",
    "    np.std(var_matrix, axis=0).tolist(),\n",
    "    np.std(var_matrix, axis=1).tolist(),\n",
    "    np.std(var_matrix)\n",
    "  ]\n",
    "  var_max = [\n",
    "    np.max(var_matrix, axis=0).tolist(),\n",
    "    np.max(var_matrix, axis=1).tolist(),\n",
    "    np.max(var_matrix)\n",
    "  ]\n",
    "  var_min = [\n",
    "    np.min(var_matrix, axis=0).tolist(),\n",
    "    np.min(var_matrix, axis=1).tolist(),\n",
    "    np.min(var_matrix)\n",
    "  ]\n",
    "  var_sum = [\n",
    "    np.sum(var_matrix, axis=0).tolist(),\n",
    "    np.sum(var_matrix, axis=1).tolist(),\n",
    "    np.sum(var_matrix)\n",
    "  ]\n",
    "\n",
    "  calculations = {\n",
    "    'mean': var_mean,\n",
    "    'variance': var_var,\n",
    "    'standard deviation': var_std,\n",
    "    'max': var_max,\n",
    "    'min': var_min,\n",
    "    'sum': var_sum,\n",
    "  }\n",
    "else:\n",
    "  raise ValueError('List must contain nine numbers.')"
   ]
  }
 ],
 "metadata": {
  "kernelspec": {
   "display_name": "Python 3 (ipykernel)",
   "language": "python",
   "name": "python3"
  },
  "language_info": {
   "codemirror_mode": {
    "name": "ipython",
    "version": 3
   },
   "file_extension": ".py",
   "mimetype": "text/x-python",
   "name": "python",
   "nbconvert_exporter": "python",
   "pygments_lexer": "ipython3",
   "version": "3.10.9"
  }
 },
 "nbformat": 4,
 "nbformat_minor": 5
}
