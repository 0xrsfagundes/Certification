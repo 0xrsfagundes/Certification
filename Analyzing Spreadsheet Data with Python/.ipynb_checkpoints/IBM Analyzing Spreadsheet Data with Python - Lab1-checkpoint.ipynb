{
 "cells": [
  {
   "cell_type": "markdown",
   "id": "a6d8eae8",
   "metadata": {},
   "source": [
    "# Analyzing Spreadsheet Data with Python\n",
    "\n",
    "IBM course - Analyzing Spreadsheet Data with Python"
   ]
  },
  {
   "cell_type": "code",
   "execution_count": null,
   "id": "dd7b2234",
   "metadata": {},
   "outputs": [],
   "source": [
    "import "
   ]
  }
 ],
 "metadata": {
  "kernelspec": {
   "display_name": "Python 3 (ipykernel)",
   "language": "python",
   "name": "python3"
  },
  "language_info": {
   "codemirror_mode": {
    "name": "ipython",
    "version": 3
   },
   "file_extension": ".py",
   "mimetype": "text/x-python",
   "name": "python",
   "nbconvert_exporter": "python",
   "pygments_lexer": "ipython3",
   "version": "3.10.9"
  }
 },
 "nbformat": 4,
 "nbformat_minor": 5
}
