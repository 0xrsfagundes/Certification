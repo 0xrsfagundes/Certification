{
 "cells": [
  {
   "cell_type": "markdown",
   "id": "3bf509b2",
   "metadata": {},
   "source": [
    "# Data Analysis with Python - Lab5\n",
    "\n",
    "IBM course - Data Analysis with Python"
   ]
  }
 ],
 "metadata": {
  "kernelspec": {
   "display_name": "Python 3 (ipykernel)",
   "language": "python",
   "name": "python3"
  },
  "language_info": {
   "codemirror_mode": {
    "name": "ipython",
    "version": 3
   },
   "file_extension": ".py",
   "mimetype": "text/x-python",
   "name": "python",
   "nbconvert_exporter": "python",
   "pygments_lexer": "ipython3",
   "version": "3.10.9"
  }
 },
 "nbformat": 4,
 "nbformat_minor": 5
}
